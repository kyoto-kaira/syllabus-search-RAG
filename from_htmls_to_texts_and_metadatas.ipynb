{
  "nbformat": 4,
  "nbformat_minor": 0,
  "metadata": {
    "colab": {
      "provenance": [],
      "mount_file_id": "1yibYLaiIsbO58rKdOhv_NtEiH912-I39",
      "authorship_tag": "ABX9TyPGgeOkljTXB4Sl+k1dvl/c"
    },
    "kernelspec": {
      "name": "python3",
      "display_name": "Python 3"
    },
    "language_info": {
      "name": "python"
    }
  },
  "cells": [
    {
      "cell_type": "code",
      "execution_count": 58,
      "metadata": {
        "id": "aqRcqsfqyOzn"
      },
      "outputs": [],
      "source": [
        "import pickle\n",
        "path_w = '/content/drive/Shareddrives/002_シラバスRAGシステム/data/shirabasu_htmls.pkl'\n",
        "with open(path_w, 'rb') as f:\n",
        "    htmls = pickle.load(f)"
      ]
    },
    {
      "cell_type": "code",
      "source": [
        "from bs4 import BeautifulSoup\n",
        "texts = []\n",
        "metadatas = []\n",
        "for html in htmls:\n",
        "  d = {}\n",
        "  html = html.replace('０','0').replace('１','1').replace('２','2').replace('３','3').replace('４','4').replace('５','5').replace('６','6').replace('７','7').replace('８','8').replace('９','9')\n",
        "  soup = BeautifulSoup(html, 'html.parser')\n",
        "  for i in range(3,len(soup.find_all('tr',valign=\"top\"))):\n",
        "    for j in range(int(len(soup.find_all('tr',valign=\"top\")[i].find_all('td'))/2)):\n",
        "      d[soup.find_all('tr',valign=\"top\")[i].find_all('td')[2*j].get_text().replace('(','').replace(')','')] = soup.find_all('tr',valign=\"top\")[i].find_all('td')[2*j+1].get_text().replace(' ','').replace('\\n','')\n",
        "  text = soup.get_text().replace(' ',''\n",
        "  ).replace('\\n',''\n",
        "  ).replace('\\u3000',''\n",
        "  ).replace('\\t',''\n",
        "  ).replace('\\y',''\n",
        "  ).replace('\\xa0',''\n",
        "  ).replace('京都大学教務情報システムEnglish|日本語シラバス検索',''\n",
        "  ).replace('external/open_syllabus/la_syllabus.jsp',''\n",
        "  ).replace('external/open_syllabus/department_syllabus.jsp','')\n",
        "  texts.append(text)\n",
        "  metadatas.append(d)\n",
        "\n"
      ],
      "metadata": {
        "id": "wySemPHZwz9f"
      },
      "execution_count": null,
      "outputs": []
    },
    {
      "cell_type": "code",
      "source": [
        "import pickle\n",
        "path_w1 = '/content/drive/Shareddrives/002_シラバスRAGシステム/data/shirabasu_texts.pkl'\n",
        "with open(path_w1, mode='wb') as f:\n",
        "    pickle.dump(texts, f)\n",
        "path_w2 = '/content/drive/Shareddrives/002_シラバスRAGシステム/data/shirabasu_metadatas.pkl'\n",
        "with open(path_w2, mode='wb') as f:\n",
        "    pickle.dump(metadatas, f)"
      ],
      "metadata": {
        "id": "elrRJFJr4Jm0"
      },
      "execution_count": null,
      "outputs": []
    }
  ]
}