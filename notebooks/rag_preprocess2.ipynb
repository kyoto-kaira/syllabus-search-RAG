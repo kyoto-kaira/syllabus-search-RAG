{
  "cells": [
    {
      "cell_type": "code",
      "execution_count": 1,
      "metadata": {
        "id": "aqRcqsfqyOzn"
      },
      "outputs": [],
      "source": [
        "import pickle\n",
        "path_w = '/content/drive/Shareddrives/002_シラバスRAGシステム/data/shirabasu_htmls.pkl'\n",
        "with open(path_w, 'rb') as f:\n",
        "    htmls = pickle.load(f)\n"
      ]
    },
    {
      "cell_type": "code",
      "execution_count": 95,
      "metadata": {
        "id": "wySemPHZwz9f"
      },
      "outputs": [],
      "source": [
        "from bs4 import BeautifulSoup\n",
        "texts = []\n",
        "metadatas = []\n",
        "for html in htmls:\n",
        "  d = {}\n",
        "  html = html.replace('０','0').replace('１','1').replace('２','2').replace('３','3').replace('４','4').replace('５','5').replace('６','6').replace('７','7').replace('８','8').replace('９','9')\n",
        "  soup = BeautifulSoup(html, 'html.parser')\n",
        "  d['科目ナンバリング'] = soup.find_all('tr',valign=\"top\")[0].find_all('td')[1].get_text().replace(' ','').replace('\\n','').replace('\\t','')\n",
        "  d['所属部局、職名、氏名']= soup.find_all('tr',valign=\"top\")[1].find_all('td', class_ =\"lesson_plan_sell\")[1].get_text().replace('\\n','').replace(' ','').replace('\\u3000','').replace('(所属部局)(職名)(氏名)','') .replace('\\t','')\n",
        "  d['科目名'] = soup.find_all('tr',valign=\"top\")[1].find('b').get_text().replace(' ','').replace('\\n','').replace('\\t','')\n",
        "  for i in range(2, len(soup.find_all('tr',valign=\"top\"))):\n",
        "    for j in range(int(len(soup.find_all('tr',valign=\"top\")[i].find_all('td'))/2)):\n",
        "      d[soup.find_all('tr',valign=\"top\")[i].find_all('td')[2*j].get_text().replace('(','').replace(')','')] = soup.find_all('tr',valign=\"top\")[i].find_all('td')[2*j+1].get_text().replace(' ','').replace('\\n','')\n",
        "\n",
        "  l = [div.get_text() for div in soup.find_all('div', class_ =\"h120\")]\n",
        "  l.insert(0,'科目名は'+soup.find_all('tr',valign=\"top\")[1].find('b').get_text())\n",
        "  text = ''.join(l\n",
        "  ).replace('   ',''\n",
        "  ).replace('\\n',''\n",
        "  ).replace('\\u3000',''\n",
        "  ).replace('\\t',''\n",
        "  ).replace('\\y',''\n",
        "  ).replace('\\xa0',''\n",
        "  ).replace('(授業の概要・目的)','。授業の概要・目的は'\n",
        "  ).replace('(到達目標)','。到達目標は'\n",
        "  ).replace('(授業計画と内容)','。授業計画と内容は'\n",
        "  ).replace('(履修要件)','。履修要件は'\n",
        "  ).replace('(参考書等)','。参考書等は'\n",
        "  ).replace('(関連URL)','。関連URLは'\n",
        "  ).replace('(実務経験のある教員による授業)','。実務経験のある教員による授業は'\n",
        "  ).replace('(成績評価の方法・観点)','。成績評価の方法・観点は'\n",
        "  ).replace('(授業外学修（予習・復習）等)','。授業外学修（予習・復習）等は'\n",
        "  ).replace('(題目)','。題目は'\n",
        "  ).replace('.。','。'\n",
        "  ).replace('。。','。'\n",
        "  )\n",
        "  texts.append(text)\n",
        "  metadatas.append(d)\n",
        "\n"
      ]
    },
    {
      "cell_type": "code",
      "execution_count": 97,
      "metadata": {
        "id": "uGqzdEZIhpe6"
      },
      "outputs": [],
      "source": [
        "import pickle\n",
        "path_w1 = '/content/drive/Shareddrives/002_シラバスRAGシステム/data/shirabasu_texts.pkl'\n",
        "with open(path_w1, mode='wb') as f:\n",
        "    pickle.dump(texts, f)\n",
        "path_w2 = '/content/drive/Shareddrives/002_シラバスRAGシステム/data/shirabasu_metadatas.pkl'\n",
        "with open(path_w2, mode='wb') as f:\n",
        "    pickle.dump(metadatas, f)\n"
      ]
    }
  ],
  "metadata": {
    "colab": {
      "authorship_tag": "ABX9TyPe6nMW+N7GP8R8HBalPd2t",
      "mount_file_id": "1yibYLaiIsbO58rKdOhv_NtEiH912-I39",
      "provenance": []
    },
    "kernelspec": {
      "display_name": "Python 3",
      "name": "python3"
    },
    "language_info": {
      "name": "python"
    }
  },
  "nbformat": 4,
  "nbformat_minor": 0
}
