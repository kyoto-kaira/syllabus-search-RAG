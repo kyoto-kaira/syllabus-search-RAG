{
  "nbformat": 4,
  "nbformat_minor": 0,
  "metadata": {
    "colab": {
      "provenance": [],
      "mount_file_id": "1n_ls6zgbFhYsTMeYJkWpNYO4GIMDxIdA",
      "authorship_tag": "ABX9TyOcaG1scHsB3m5mMc5R1b0p",
      "include_colab_link": true
    },
    "kernelspec": {
      "name": "python3",
      "display_name": "Python 3"
    },
    "language_info": {
      "name": "python"
    }
  },
  "cells": [
    {
      "cell_type": "markdown",
      "metadata": {
        "id": "view-in-github",
        "colab_type": "text"
      },
      "source": [
        "<a href=\"https://colab.research.google.com/github/kyoto-kaira/syllabus-search-RAG/blob/main/rag_prepocess.ipynb\" target=\"_parent\"><img src=\"https://colab.research.google.com/assets/colab-badge.svg\" alt=\"Open In Colab\"/></a>"
      ]
    },
    {
      "cell_type": "code",
      "execution_count": 2,
      "metadata": {
        "id": "669cdNHuDIdE"
      },
      "outputs": [],
      "source": [
        "path = '/content/drive/Shareddrives/002_シラバスRAGシステム/data/shirabasu_html_Japanense.txt'\n",
        "texts = []\n",
        "with open(path) as f:\n",
        "  for text in f:\n",
        "    texts.append(text)"
      ]
    },
    {
      "cell_type": "code",
      "source": [
        "d = {'京都大学教務情報システムEnglish |日本語シラバス検索(科目ナンバリング)':'科目ナンバリングは',\n",
        "     '(科目名)':'。科目名は',\n",
        "     '(英 訳)':'。英訳は',\n",
        "     '(所属部局)(職 名)(氏 名)':'。所属部局、職 名、氏 名は',\n",
        "     '(使用言語)':'。使用言語は',\n",
        "     '(単位数)':'。単位数は',\n",
        "     '(時間数)':'。時間数は',\n",
        "     '(授業形態)':'。授業形態は',\n",
        "     '(開講年度・開講期)':'。開講年度・開講期は',\n",
        "     '(配当学年)':'。配当学年は',\n",
        "     '(対象学生)':'。対象学生は',\n",
        "     '(曜時限)':'。曜時限は',\n",
        "     '(授業の概要・目的)':'。授業の概要・目的は',\n",
        "     '(到達目標)':'。到達目標は',\n",
        "     '(履修要件)':'。履修要件は',\n",
        "     '(成績評価の方法・観点)':'。成績評価の方法・観点は',\n",
        "     '(授業計画と内容)':'。授業計画と内容は',\n",
        "     '(教科書)':'。教科書は',\n",
        "     '(参考書等)':'。参考書等は',\n",
        "     '(関連URL)':'。関連URLは',\n",
        "     '(授業外学修（予習・復習）等)':'。授業外学修（予習・復習）等は',\n",
        "     '(キーワード)':'。キーワードは',\n",
        "     '(題目)':'。題目は',\n",
        "     '(実務経験のある教員による授業)':'。実務経験のある教員による授業は',\n",
        "     '。。':'。',\n",
        "     '.。':'。',\n",
        "     'external/open_syllabus/la_syllabus.jsp':'',\n",
        "     'external/open_syllabus/department_syllabus.jsp':'',\n",
        "     '\\t':''}"
      ],
      "metadata": {
        "id": "uN3NOgZaDf3u"
      },
      "execution_count": 3,
      "outputs": []
    },
    {
      "cell_type": "code",
      "source": [
        "for k, v in d.items():\n",
        "    texts = [text.replace(k, v) for text in texts]"
      ],
      "metadata": {
        "id": "1mEvkkcdHhA5"
      },
      "execution_count": 4,
      "outputs": []
    },
    {
      "cell_type": "code",
      "source": [
        "path_w = '/content/drive/Shareddrives/002_シラバスRAGシステム/data/shirabasu_html_Japanese_preprocessed.txt'\n",
        "with open(path_w, mode='w') as f:\n",
        "    f.writelines(texts)"
      ],
      "metadata": {
        "id": "QgFzVPUZHsHU"
      },
      "execution_count": 5,
      "outputs": []
    }
  ]
}